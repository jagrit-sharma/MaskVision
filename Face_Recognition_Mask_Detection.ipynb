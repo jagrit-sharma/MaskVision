{
 "cells": [
  {
   "cell_type": "markdown",
   "metadata": {},
   "source": [
    "<h1>Importing Libraries</h1>"
   ]
  },
  {
   "cell_type": "code",
   "execution_count": 1,
   "metadata": {},
   "outputs": [],
   "source": [
    "from tensorflow.keras.applications.mobilenet_v2 import preprocess_input\n",
    "from tensorflow.keras.preprocessing.image import img_to_array\n",
    "from tensorflow.keras.models import load_model\n",
    "from imutils.video import VideoStream\n",
    "import imutils\n",
    "import time\n",
    "import cv2\n",
    "import numpy as np\n",
    "import face_recognition\n",
    "import os\n",
    "import pandas as pd\n",
    "from datetime import datetime"
   ]
  },
  {
   "cell_type": "markdown",
   "metadata": {},
   "source": [
    "<h1>Mark Attendance Function</h1>"
   ]
  },
  {
   "cell_type": "code",
   "execution_count": 2,
   "metadata": {},
   "outputs": [],
   "source": [
    "def clearAttendanceFiles():\n",
    "    # Clear Attendance.csv\n",
    "    attendance_file = 'Attendance.csv'\n",
    "    if os.path.exists(attendance_file):\n",
    "        with open(attendance_file, 'w') as f:\n",
    "            f.write('Name,Entry Time,Exit Time\\n')\n",
    "        print(f'[INFO] Cleared {attendance_file}')\n",
    "\n",
    "    # Clear Output.csv\n",
    "    output_file = 'output.csv'\n",
    "    if os.path.exists(output_file):\n",
    "        with open(output_file, 'w') as f:\n",
    "            f.write('Student Name,Status\\n')\n",
    "        print(f'[INFO] Cleared {output_file}')"
   ]
  },
  {
   "cell_type": "code",
   "execution_count": 3,
   "metadata": {},
   "outputs": [],
   "source": [
    "entry_times = {}"
   ]
  },
  {
   "cell_type": "code",
   "execution_count": 4,
   "metadata": {},
   "outputs": [],
   "source": [
    "def markAttendance(name, isEntry=True):\n",
    "    now = datetime.now()\n",
    "    timeStr = now.strftime('%H:%M:%S')\n",
    "\n",
    "    if not os.path.exists('Attendance.csv'):\n",
    "        with open('Attendance.csv', 'w') as f:\n",
    "            f.write('Name,Entry Time,Exit Time\\n')\n",
    "    \n",
    "    with open('Attendance.csv', 'r+') as f:\n",
    "        myDataList = f.readlines()\n",
    "        nameList = [line.split(',')[0] for line in myDataList]\n",
    "        updatedData = []\n",
    "        if isEntry:\n",
    "            # Handle entry time\n",
    "            if name not in nameList:\n",
    "                # New entry\n",
    "                entry_times[name] = timeStr\n",
    "                updatedData = myDataList\n",
    "                updatedData.append(f'\\n{name},{timeStr},-')\n",
    "            else:\n",
    "                # Update existing entry with a new entry time\n",
    "                for line in myDataList:\n",
    "                    if name in line:\n",
    "                        updatedData.append(f'{name},{timeStr},-\\n')\n",
    "                        entry_times[name] = timeStr\n",
    "                    else:\n",
    "                        updatedData.append(line)\n",
    "        else:\n",
    "            # Handle exit time update when the program is closing\n",
    "            for line in myDataList:\n",
    "                if name in line:\n",
    "                    entry_time = entry_times.get(name, line.split(',')[1])\n",
    "                    updatedData.append(f'{name},{entry_time},{timeStr}\\n')\n",
    "                else:\n",
    "                    updatedData.append(line)\n",
    "\n",
    "        f.seek(0)\n",
    "        f.truncate(0)\n",
    "        f.writelines(updatedData)"
   ]
  },
  {
   "cell_type": "code",
   "execution_count": 5,
   "metadata": {},
   "outputs": [],
   "source": [
    "def updateExitTimes():\n",
    "    with open('Attendance.csv', 'r+') as f:\n",
    "        myDataList = f.readlines()\n",
    "        updatedData = []\n",
    "        now = datetime.now()\n",
    "        timeStr = now.strftime('%H:%M:%S')\n",
    "\n",
    "        for line in myDataList:\n",
    "            if '-' in line:  # If exit time is not updated yet\n",
    "                name, entry_time, _ = line.strip().split(',')\n",
    "                updatedData.append(f'{name},{entry_time},{timeStr}\\n')\n",
    "            else:\n",
    "                updatedData.append(line)\n",
    "\n",
    "        f.seek(0)\n",
    "        f.truncate(0)\n",
    "        f.writelines(updatedData)"
   ]
  },
  {
   "cell_type": "markdown",
   "metadata": {},
   "source": [
    "<h1>Face Encoding Function</h1>"
   ]
  },
  {
   "cell_type": "code",
   "execution_count": 6,
   "metadata": {},
   "outputs": [],
   "source": [
    "def findEncodings(images):\n",
    "    encodeList = []\n",
    "    for img in images:\n",
    "        img = cv2.cvtColor(img, cv2.COLOR_BGR2RGB)\n",
    "        encode = face_recognition.face_encodings(img)[0]\n",
    "        encodeList.append(encode)\n",
    "    return encodeList"
   ]
  },
  {
   "cell_type": "markdown",
   "metadata": {},
   "source": [
    "<h1>Mask Detection Function</h1>"
   ]
  },
  {
   "cell_type": "code",
   "execution_count": 7,
   "metadata": {},
   "outputs": [],
   "source": [
    "def detect_and_predict_mask(frame, faceNet, maskNet, confidence_threshold=0.5):\n",
    "    (h, w) = frame.shape[:2]\n",
    "    blob = cv2.dnn.blobFromImage(frame, 1.0, (300, 300), (104.0, 177.0, 123.0))\n",
    "    faceNet.setInput(blob)\n",
    "    detections = faceNet.forward()\n",
    "\n",
    "    faces = []\n",
    "    locs = []\n",
    "    preds = []\n",
    "\n",
    "    for i in range(0, detections.shape[2]):\n",
    "        confidence = detections[0, 0, i, 2]\n",
    "        if confidence > confidence_threshold:\n",
    "            box = detections[0, 0, i, 3:7] * np.array([w, h, w, h])\n",
    "            (startX, startY, endX, endY) = box.astype('int')\n",
    "            (startX, startY) = (max(0, startX), max(0, startY))\n",
    "            (endX, endY) = (min(w - 1, endX), min(h - 1, endY))\n",
    "\n",
    "            face = frame[startY:endY, startX:endX]\n",
    "            face = cv2.cvtColor(face, cv2.COLOR_BGR2RGB)\n",
    "            face = cv2.resize(face, (224, 224))\n",
    "            face = img_to_array(face)\n",
    "            face = preprocess_input(face)\n",
    "\n",
    "            faces.append(face)\n",
    "            locs.append((startX, startY, endX, endY))\n",
    "\n",
    "    if len(faces) > 0:\n",
    "        faces = np.array(faces, dtype='float32')\n",
    "        preds = maskNet.predict(faces, batch_size=32)\n",
    "\n",
    "    return (locs, preds)"
   ]
  },
  {
   "cell_type": "markdown",
   "metadata": {},
   "source": [
    "<h1>Loading Models and Encoding Faces</h1>"
   ]
  },
  {
   "cell_type": "code",
   "execution_count": 8,
   "metadata": {},
   "outputs": [
    {
     "name": "stdout",
     "output_type": "stream",
     "text": [
      "[INFO] Loading face detector model...\n",
      "[INFO] Loading face mask detector model...\n"
     ]
    },
    {
     "name": "stderr",
     "output_type": "stream",
     "text": [
      "WARNING:absl:Compiled the loaded model, but the compiled metrics have yet to be built. `model.compile_metrics` will be empty until you train or evaluate the model.\n"
     ]
    },
    {
     "name": "stdout",
     "output_type": "stream",
     "text": [
      "Encoding Complete\n"
     ]
    }
   ],
   "source": [
    "print('[INFO] Loading face detector model...')\n",
    "prototxtPath = os.path.join('face_detector', 'deploy.prototxt')\n",
    "weightsPath = os.path.join('face_detector', 'res10_300x300_ssd_iter_140000.caffemodel')\n",
    "faceNet = cv2.dnn.readNet(prototxtPath, weightsPath)\n",
    "\n",
    "print('[INFO] Loading face mask detector model...')\n",
    "maskNet = load_model('mask_detector.h5')\n",
    "\n",
    "imgAttendance = 'ImagesAttendance'\n",
    "images = [cv2.imread(f'{imgAttendance}/{img}') for img in os.listdir(imgAttendance)]\n",
    "classNames = [os.path.splitext(cls)[0].upper() for cls in os.listdir(imgAttendance)]\n",
    "encodeListKnown = findEncodings(images)\n",
    "print('Encoding Complete')"
   ]
  },
  {
   "cell_type": "markdown",
   "metadata": {},
   "source": [
    "<h1>Video Stream and Real-Time Processing</h1>"
   ]
  },
  {
   "cell_type": "code",
   "execution_count": 9,
   "metadata": {},
   "outputs": [
    {
     "name": "stdout",
     "output_type": "stream",
     "text": [
      "[INFO] Cleared Attendance.csv\n",
      "[INFO] Cleared output.csv\n",
      "\u001b[1m1/1\u001b[0m \u001b[32m━━━━━━━━━━━━━━━━━━━━\u001b[0m\u001b[37m\u001b[0m \u001b[1m1s\u001b[0m 796ms/step\n",
      "[INFO] No mask violation image saved at violations\\violation_20250303_211757.png\n",
      "\u001b[1m1/1\u001b[0m \u001b[32m━━━━━━━━━━━━━━━━━━━━\u001b[0m\u001b[37m\u001b[0m \u001b[1m0s\u001b[0m 35ms/step\n",
      "\u001b[1m1/1\u001b[0m \u001b[32m━━━━━━━━━━━━━━━━━━━━\u001b[0m\u001b[37m\u001b[0m \u001b[1m0s\u001b[0m 44ms/step\n",
      "\u001b[1m1/1\u001b[0m \u001b[32m━━━━━━━━━━━━━━━━━━━━\u001b[0m\u001b[37m\u001b[0m \u001b[1m0s\u001b[0m 38ms/step\n",
      "\u001b[1m1/1\u001b[0m \u001b[32m━━━━━━━━━━━━━━━━━━━━\u001b[0m\u001b[37m\u001b[0m \u001b[1m0s\u001b[0m 42ms/step\n",
      "\u001b[1m1/1\u001b[0m \u001b[32m━━━━━━━━━━━━━━━━━━━━\u001b[0m\u001b[37m\u001b[0m \u001b[1m0s\u001b[0m 20ms/step\n",
      "\u001b[1m1/1\u001b[0m \u001b[32m━━━━━━━━━━━━━━━━━━━━\u001b[0m\u001b[37m\u001b[0m \u001b[1m0s\u001b[0m 35ms/step\n",
      "\u001b[1m1/1\u001b[0m \u001b[32m━━━━━━━━━━━━━━━━━━━━\u001b[0m\u001b[37m\u001b[0m \u001b[1m0s\u001b[0m 31ms/step\n",
      "\u001b[1m1/1\u001b[0m \u001b[32m━━━━━━━━━━━━━━━━━━━━\u001b[0m\u001b[37m\u001b[0m \u001b[1m0s\u001b[0m 35ms/step\n",
      "\u001b[1m1/1\u001b[0m \u001b[32m━━━━━━━━━━━━━━━━━━━━\u001b[0m\u001b[37m\u001b[0m \u001b[1m0s\u001b[0m 36ms/step\n",
      "\u001b[1m1/1\u001b[0m \u001b[32m━━━━━━━━━━━━━━━━━━━━\u001b[0m\u001b[37m\u001b[0m \u001b[1m0s\u001b[0m 34ms/step\n",
      "\u001b[1m1/1\u001b[0m \u001b[32m━━━━━━━━━━━━━━━━━━━━\u001b[0m\u001b[37m\u001b[0m \u001b[1m0s\u001b[0m 40ms/step\n"
     ]
    }
   ],
   "source": [
    "clearAttendanceFiles()\n",
    "vs = VideoStream(src=0).start()\n",
    "time.sleep(2.0)\n",
    "violation_dir = 'violations'\n",
    "os.makedirs(violation_dir, exist_ok=True)\n",
    "violationFlag = False\n",
    "\n",
    "try:\n",
    "    while True:\n",
    "        frame = vs.read()\n",
    "        frame = imutils.resize(frame, width=600)\n",
    "\n",
    "        faceCurFrame = face_recognition.face_locations(frame)\n",
    "        encodeCurFrame = face_recognition.face_encodings(frame, faceCurFrame)\n",
    "\n",
    "        (locs, preds) = detect_and_predict_mask(frame, faceNet, maskNet)\n",
    "\n",
    "        for (box, pred) in zip(locs, preds):\n",
    "            (startX, startY, endX, endY) = box\n",
    "            (mask, withoutMask) = pred\n",
    "\n",
    "            label = 'Mask' if mask > withoutMask else 'No Mask'\n",
    "            color = (0, 255, 0) if label == 'Mask' else (0, 0, 255)\n",
    "\n",
    "            if label == 'No Mask' and not violationFlag:\n",
    "                violation_image_path = os.path.join(violation_dir, f'violation_{datetime.now().strftime(\"%Y%m%d_%H%M%S\")}.png')\n",
    "                cv2.imwrite(violation_image_path, frame)\n",
    "                print(f'[INFO] No mask violation image saved at {violation_image_path}')\n",
    "                violationFlag = True\n",
    "\n",
    "            for encodeFace, faceLoc in zip(encodeCurFrame, faceCurFrame):\n",
    "                matches = face_recognition.compare_faces(encodeListKnown, encodeFace)\n",
    "                faceDist = face_recognition.face_distance(encodeListKnown, encodeFace)\n",
    "                matchIndex = np.argmin(faceDist)\n",
    "                if matches[matchIndex]:\n",
    "                    name = classNames[matchIndex]\n",
    "                    cv2.putText(frame, name, (startX, endY), cv2.FONT_HERSHEY_SIMPLEX, 1, color, 2)\n",
    "                    markAttendance(name, isEntry=True)\n",
    "\n",
    "            cv2.putText(frame, label, (startX, startY - 10), cv2.FONT_HERSHEY_SIMPLEX, 1, color, 2)\n",
    "            cv2.rectangle(frame, (startX, startY), (endX, endY), color, 2)\n",
    "\n",
    "        cv2.imshow('Frame', frame)\n",
    "        if cv2.waitKey(1) & 0xFF == 27:  # Press 'Esc' to exit\n",
    "            break\n",
    "\n",
    "finally:\n",
    "    updateExitTimes()\n",
    "    cv2.destroyAllWindows()\n",
    "    vs.stop()"
   ]
  },
  {
   "cell_type": "markdown",
   "metadata": {},
   "source": [
    "<h1>Generating the Attendance Report</h1>"
   ]
  },
  {
   "cell_type": "code",
   "execution_count": 10,
   "metadata": {},
   "outputs": [
    {
     "name": "stdout",
     "output_type": "stream",
     "text": [
      "[INFO] Attendance report saved to output.csv\n"
     ]
    }
   ],
   "source": [
    "df = pd.read_csv('Attendance.csv')\n",
    "present_students = set(df['Name'].str.upper())\n",
    "all_students = pd.read_csv('Students.csv')['Name'].str.upper()\n",
    "\n",
    "result = pd.DataFrame([(name, 'Present' if name in present_students else 'Absent') \n",
    "                       for name in all_students], columns=['Student Name', 'Status'])\n",
    "\n",
    "output_csv = 'output.csv'\n",
    "result.to_csv(output_csv, index=False)\n",
    "print(f'[INFO] Attendance report saved to {output_csv}')"
   ]
  },
  {
   "cell_type": "code",
   "execution_count": 11,
   "metadata": {},
   "outputs": [
    {
     "name": "stdout",
     "output_type": "stream",
     "text": [
      "Available columns in Attendance.csv: Index(['Name', 'Entry Time', 'Exit Time'], dtype='object')\n"
     ]
    },
    {
     "data": {
      "image/png": "[encoded data removed]",
      "text/plain": [
       "<Figure size 600x400 with 1 Axes>"
      ]
     },
     "metadata": {},
     "output_type": "display_data"
    },
    {
     "name": "stdout",
     "output_type": "stream",
     "text": [
      "[INFO] Mask detection statistics plot saved as mask_detection_stats.png\n"
     ]
    },
    {
     "data": {
      "image/png": "[encoded data removed]",
      "text/plain": [
       "<Figure size 600x400 with 1 Axes>"
      ]
     },
     "metadata": {},
     "output_type": "display_data"
    },
    {
     "name": "stdout",
     "output_type": "stream",
     "text": [
      "[INFO] Attendance summary plot saved as attendance_summary.png\n"
     ]
    },
    {
     "data": {
      "image/png": "[encoded data removed]",
      "text/plain": [
       "<Figure size 800x400 with 1 Axes>"
      ]
     },
     "metadata": {},
     "output_type": "display_data"
    },
    {
     "name": "stdout",
     "output_type": "stream",
     "text": [
      "[INFO] Entry and exit times plot saved as entry_exit_times.png\n"
     ]
    }
   ],
   "source": [
    "import matplotlib.pyplot as plt\n",
    "import pandas as pd\n",
    "\n",
    "# Load the attendance data and strip whitespace from column names\n",
    "attendance_df = pd.read_csv('Attendance.csv')\n",
    "attendance_df.columns = attendance_df.columns.str.strip()\n",
    "output_df = pd.read_csv('output.csv')\n",
    "\n",
    "# Check available columns\n",
    "print(\"Available columns in Attendance.csv:\", attendance_df.columns)\n",
    "\n",
    "# Calculate Mask vs. No Mask counts based on the attendance file\n",
    "mask_count = attendance_df['Name'].str.contains('Mask').sum()\n",
    "no_mask_count = len(attendance_df) - mask_count\n",
    "\n",
    "# 1. Plot Mask vs. No Mask Statistics\n",
    "mask_counts = {'Mask': mask_count, 'No Mask': no_mask_count}\n",
    "plt.figure(figsize=(6, 4))\n",
    "plt.bar(mask_counts.keys(), mask_counts.values(), color=['green', 'red'])\n",
    "plt.xlabel('Status')\n",
    "plt.ylabel('Count')\n",
    "plt.title('Mask Detection Statistics')\n",
    "plt.savefig('mask_detection_stats.png')\n",
    "plt.show()\n",
    "plt.close()\n",
    "print('[INFO] Mask detection statistics plot saved as mask_detection_stats.png')\n",
    "\n",
    "# 2. Plot Attendance Summary (Present vs. Absent)\n",
    "attendance_summary = output_df['Status'].value_counts()\n",
    "plt.figure(figsize=(6, 4))\n",
    "plt.pie(attendance_summary, labels=attendance_summary.index, autopct='%1.1f%%', startangle=90, colors=['#76c7c0', '#ff6f61'])\n",
    "plt.title('Attendance Summary')\n",
    "plt.savefig('attendance_summary.png')\n",
    "plt.show()\n",
    "plt.close()\n",
    "print('[INFO] Attendance summary plot saved as attendance_summary.png')\n",
    "\n",
    "# 3. Plot Entry and Exit Times with Error Handling\n",
    "if 'Entry Time' in attendance_df.columns and 'Exit Time' in attendance_df.columns:\n",
    "    attendance_df['Entry Time'] = pd.to_datetime(attendance_df['Entry Time'], format='%H:%M:%S')\n",
    "    attendance_df['Exit Time'] = pd.to_datetime(attendance_df['Exit Time'], format='%H:%M:%S', errors='coerce')\n",
    "    plt.figure(figsize=(8, 4))\n",
    "    plt.hist(attendance_df['Entry Time'].dropna().dt.hour, bins=24, alpha=0.6, label='Entry Times', color='blue')\n",
    "    plt.hist(attendance_df['Exit Time'].dropna().dt.hour, bins=24, alpha=0.6, label='Exit Times', color='orange')\n",
    "    plt.xlabel('Hour of the Day')\n",
    "    plt.ylabel('Frequency')\n",
    "    plt.title('Entry and Exit Times of Students')\n",
    "    plt.legend()\n",
    "    plt.savefig('entry_exit_times.png')\n",
    "    plt.show()\n",
    "    plt.close()\n",
    "    print('[INFO] Entry and exit times plot saved as entry_exit_times.png')\n",
    "else:\n",
    "    print('[WARNING] Entry Time or Exit Time columns not found in Attendance.csv. Skipping this plot.')"
   ]
  }
 ],
 "metadata": {
  "kernelspec": {
   "display_name": "FRMD_env",
   "language": "python",
   "name": "python3"
  },
  "language_info": {
   "codemirror_mode": {
    "name": "ipython",
    "version": 3
   },
   "file_extension": ".py",
   "mimetype": "text/x-python",
   "name": "python",
   "nbconvert_exporter": "python",
   "pygments_lexer": "ipython3",
   "version": "3.10.0"
  }
 },
 "nbformat": 4,
 "nbformat_minor": 2
}
